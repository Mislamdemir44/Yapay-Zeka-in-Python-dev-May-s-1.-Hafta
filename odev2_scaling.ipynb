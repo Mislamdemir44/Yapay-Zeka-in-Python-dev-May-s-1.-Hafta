{
 "cells": [
  {
   "cell_type": "markdown",
   "id": "d49374f4-634d-410a-a367-c7640b77ce76",
   "metadata": {},
   "source": [
    "### Özellik Ölçekleme (Feature Scaling)\n",
    "Özellik ölçekleme, makine öğrenmesi modellerinin daha doğru ve hızlı sonuçlar verebilmesi için kullanılan önemli bir ön işleme adımıdır."
   ]
  },
  {
   "cell_type": "markdown",
   "id": "3544bb38-6238-4025-b774-c021357e8d90",
   "metadata": {},
   "source": [
    "### Neden Özellik Ölçekleme Gerekir?\n",
    "- Farklı ölçeklerdeki özellikler, modelin yanlış öğrenmesine neden olabilir.\n",
    "- Mesela biri 0-1 arasında, diğeri 0-1000 arasında olan iki özellik eşit ağırlıklı değerlendirilemez."
   ]
  },
  {
   "cell_type": "markdown",
   "id": "03818ee5-6fbe-4748-836c-7a337d81552c",
   "metadata": {},
   "source": [
    "### Yaygın Özellik Ölçekleme Yöntemleri:\n",
    "**1. Min-Max Scaling**\n",
    "- Verileri 0 ile 1 arasına sıkıştırır.\n",
    "- Duyarlıdır, uç değerlerden etkilenir.\n",
    "\n",
    "**2. Standardization (Z-Score Normalizasyonu)**\n",
    "- Ortalama 0, standart sapma 1 olacak şekilde dönüştürür.\n",
    "- Uç değerlere karşı daha dayanıklıdır.\n",
    "\n",
    "**3. Robust Scaling**\n",
    "- Ortanca (median) ve çeyrekler arası aralık (IQR) kullanır.\n",
    "- Uç değerlere karşı oldukça dayanıklıdır.\n",
    "\n",
    "**4. Normalization (L1 veya L2)**\n",
    "- Her veri noktasını birim vektöre dönüştürür.\n",
    "- Özellikle mesafe tabanlı algoritmalarda kullanılır."
   ]
  },
  {
   "cell_type": "code",
   "execution_count": null,
   "id": "5ba30418-92af-4cdc-b769-bdd875e238a9",
   "metadata": {},
   "outputs": [],
   "source": [
    "### Python Örnek:\n",
    "```python\n",
    "from sklearn.preprocessing import MinMaxScaler\n",
    "scaler = MinMaxScaler()\n",
    "scaled_data = scaler.fit_transform(data)\n",
    "```"
   ]
  }
 ],
 "metadata": {
  "kernelspec": {
   "display_name": "Python 3 (ipykernel)",
   "language": "python",
   "name": "python3"
  },
  "language_info": {
   "codemirror_mode": {
    "name": "ipython",
    "version": 3
   },
   "file_extension": ".py",
   "mimetype": "text/x-python",
   "name": "python",
   "nbconvert_exporter": "python",
   "pygments_lexer": "ipython3",
   "version": "3.9.21"
  }
 },
 "nbformat": 4,
 "nbformat_minor": 5
}
